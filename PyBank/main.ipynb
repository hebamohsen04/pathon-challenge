{
 "cells": [
  {
   "cell_type": "code",
   "execution_count": 9,
   "metadata": {},
   "outputs": [],
   "source": [
    "import os\n",
    "import csv"
   ]
  },
  {
   "cell_type": "code",
   "execution_count": 10,
   "metadata": {},
   "outputs": [
    {
     "name": "stdout",
     "output_type": "stream",
     "text": [
      "----------------------------------------------------------\n",
      "Financial Analysis\n",
      "----------------------------------------------------------\n",
      "Total Months: 86\n",
      "Total Profits: $38382578\n",
      "Average Change: $7803\n",
      "Greatest Increase in Profits: Feb-2012 ($1926159.0)\n",
      "Greatest Decrease in Profits: Sep-2013 ($-2196167.0)\n"
     ]
    }
   ],
   "source": [
    "\n",
    "\n",
    "PyBankcsv = os.path.join(\"Resources\",\"budget_data.csv\")\n",
    "# the lists to store data.\n",
    "profit = []\n",
    "average_changes = []\n",
    "date = []\n",
    "count = 0\n",
    "total_profit = 0\n",
    "total_change_profits = 0\n",
    "initial_profit = 0\n",
    "\n",
    "with open(PyBankcsv, newline=\"\") as csvfile:\n",
    "    csvreader = csv.reader(csvfile, delimiter=\",\")\n",
    "    csv_header = next(csvreader)\n",
    "    \n",
    "    for row in csvreader:\n",
    "        #  count the number months in this dataset,\n",
    "        count = count + 1\n",
    "        \n",
    "        #  when collecting the greatest increase and decrease in profits\n",
    "        date.append(row[0])\n",
    "        \n",
    "        # Append the profit information & calculate the total profit\n",
    "        profit.append(row[1])\n",
    "        total_profit = total_profit + int(row[1])\n",
    "\n",
    "        #the average change in profits from month to month.\n",
    "        #Then calulate the average change in profits\n",
    "        \n",
    "        final_profit = float(row[1])\n",
    "        monthly_change_profits = final_profit - initial_profit\n",
    "        \n",
    "        #Store these monthly changes in a list\n",
    "        \n",
    "        monthly_changes.append(monthly_change_profits)\n",
    "        total_change_profits = total_change_profits + monthly_change_profits\n",
    "        initial_profit = final_profit\n",
    "        \n",
    "        #Calculate the average change in profits\n",
    "        \n",
    "        average_change_profits = (total_change_profits/count)\n",
    "        \n",
    "    #Find the max and min change in profits\n",
    "    \n",
    "    greatest_increase_profits = max(monthly_changes)\n",
    "    greatest_decrease_profits = min(monthly_changes)\n",
    "    increase_date = date[monthly_changes.index(greatest_increase_profits)]\n",
    "    decrease_date = date[monthly_changes.index(greatest_decrease_profits)]\n",
    "    print(\"----------------------------------------------------------\")\n",
    "    print(\"Financial Analysis\")\n",
    "    print(\"----------------------------------------------------------\")\n",
    "    print(\"Total Months: \" + str(count))\n",
    "    print(\"Total Profits: \" + \"$\" + str(total_profit))\n",
    "    print(\"Average Change: \" + \"$\" + str(int(average_change_profits)))\n",
    "    print(\"Greatest Increase in Profits: \" + str(increase_date) + \" ($\" + str(greatest_increase_profits) + \")\")\n",
    "    print(\"Greatest Decrease in Profits: \" + str(decrease_date) +\" ($\" + str(greatest_decrease_profits)+ \")\")"
   ]
  },
  {
   "cell_type": "code",
   "execution_count": 13,
   "metadata": {},
   "outputs": [],
   "source": [
    "# with open(\"output.txt\", 'w') as textfile :\n",
    "   # textfile.write(\"-----------------------\\n\")   \n",
    "  #  textfile.write(\"Financial Analysis\"+\"\\n\")\n",
    "   # textfile.write(\"------------------------\\n\")\n",
    "   # textfile.write(\"Total months: \" + str(count) + \"\\n\")\n",
    "    #textfile.write(\"Total volume: \" + str(total_profit) + \"\\n\")\n",
    "   # textfile.write(\"Average monthly change: \" + str(average_change) + \"\\n\")\n",
    "   # textfile.write(\"Greatest increase: \" + str(greatest_increase) + \"\\n\")\n",
    "   # textfile.write(\"Greatest decrease: \" + str(greatest_decrease) + \"\\n\")\n",
    "#textfile.close()"
   ]
  },
  {
   "cell_type": "code",
   "execution_count": 14,
   "metadata": {},
   "outputs": [],
   "source": [
    "with open('financial_analysis.txt', 'w') as text:\n",
    "    text.write(\"----------------------------------------------------------\\n\")\n",
    "    text.write(\"  Financial Analysis\"+ \"\\n\")\n",
    "    text.write(\"----------------------------------------------------------\\n\\n\")\n",
    "    text.write(\"    Total Months: \" + str(count) + \"\\n\")\n",
    "    text.write(\"    Total Profits: \" + \"$\" + str(total_profit) +\"\\n\")\n",
    "    text.write(\"    Average Change: \" + '$' + str(int(average_change_profits)) + \"\\n\")\n",
    "    text.write(\"    Greatest Increase in Profits: \" + str(increase_date) + \" ($\" + str(greatest_increase_profits) + \")\\n\")\n",
    "    text.write(\"    Greatest Decrease in Profits: \" + str(decrease_date) + \" ($\" + str(greatest_decrease_profits) + \")\\n\")\n",
    "    text.write(\"----------------------------------------------------------\\n\")\n"
   ]
  },
  {
   "cell_type": "code",
   "execution_count": null,
   "metadata": {},
   "outputs": [],
   "source": []
  },
  {
   "cell_type": "code",
   "execution_count": null,
   "metadata": {},
   "outputs": [],
   "source": []
  }
 ],
 "metadata": {
  "kernelspec": {
   "display_name": "Python 3",
   "language": "python",
   "name": "python3"
  },
  "language_info": {
   "codemirror_mode": {
    "name": "ipython",
    "version": 3
   },
   "file_extension": ".py",
   "mimetype": "text/x-python",
   "name": "python",
   "nbconvert_exporter": "python",
   "pygments_lexer": "ipython3",
   "version": "3.7.4"
  }
 },
 "nbformat": 4,
 "nbformat_minor": 4
}
