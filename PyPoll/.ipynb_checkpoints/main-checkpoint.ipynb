{
 "cells": [
  {
   "cell_type": "code",
   "execution_count": 4,
   "metadata": {},
   "outputs": [],
   "source": [
    "import os \n",
    "import csv"
   ]
  },
  {
   "cell_type": "code",
   "execution_count": 5,
   "metadata": {},
   "outputs": [
    {
     "name": "stdout",
     "output_type": "stream",
     "text": [
      "Election Results\n",
      "-------------------------\n",
      "Total Votes: 3521001\n",
      "-------------------------\n",
      "Khan: 63.000% (2218231)\n",
      "Correy: 20.000% (704200)\n",
      "Li: 14.000% (492940)\n",
      "O'Tooley: 3.000% (105630)\n",
      "-------------------------\n",
      "Winner: Khan\n",
      "-------------------------\n"
     ]
    }
   ],
   "source": [
    "Pypollcsv = os.path.join(\"Resources\",\"election_data.csv\")\n",
    "\n",
    "total_votes = 0\n",
    "candidate_dict = {}\n",
    "\n",
    "#columns :Voter ID, County,Candidat\n",
    "with open(Pypollcsv) as csvfile:\n",
    "    csvreader = csv.reader(csvfile, delimiter=',')\n",
    "    csv_header = next(csvreader)\n",
    "    #print(csv_header)\n",
    "    for row in csvreader:\n",
    "        total_votes = total_votes + 1\n",
    "        #print(row)\n",
    "        candidate = row[2]\n",
    "        if candidate in candidate_dict :\n",
    "            candidate_dict[candidate] = candidate_dict[candidate] + 1\n",
    "        else :\n",
    "            candidate_dict[candidate] = 1\n",
    "            \n",
    "    \n",
    "    print(\"Election Results\")\n",
    "    print(\"-------------------------\")\n",
    "    print(\"Total Votes: \" + str(total_votes))\n",
    "    print(\"-------------------------\")\n",
    "    \n",
    "    maxCount = 0\n",
    "    maxKey = \"\"\n",
    "    for key, value in candidate_dict.items():\n",
    "        print(key + \": \" + \"{:.3f}\".format(100* float(value)/float(total_votes)) \n",
    "              + \"%\" + f' ({value})')\n",
    "        if maxCount < value :\n",
    "            maxCount = value\n",
    "            maxKey = key\n",
    "    \n",
    "    print(\"-------------------------\")\n",
    "    print(\"Winner: \" + maxKey)\n",
    "    print(\"-------------------------\")\n",
    "        "
   ]
  },
  {
   "cell_type": "code",
   "execution_count": 10,
   "metadata": {},
   "outputs": [],
   "source": [
    "with open ('output.txt','w') as TextFile :\n",
    "       \n",
    "        TextFile.write(\"Election Results\"+\"\\n\")\n",
    "        TextFile.write(\"-------------------------\"+\"\\n\")\n",
    "        TextFile.write(\"Total Votes: \" + str(total_votes)+\"\\n\")\n",
    "        TextFile.write(\"-------------------------\"+\"\\n\")\n",
    "        TextFile.write((key + \": \" + \"{:.3f}\".format(100* float(value)/float(total_votes)) \n",
    "              + \"%\" + f' ({value})')+\"\\n\")\n",
    "        TextFile.write(\"-------------------------\"+\"\\n\")\n",
    "        TextFile.write((\"Winner: \" + maxKey)+\"\\n\")\n",
    "        #TextFile.Write(\"\\n\"+\"--------------------------\")\n",
    "        TextFile.close()\n",
    "  "
   ]
  },
  {
   "cell_type": "code",
   "execution_count": null,
   "metadata": {},
   "outputs": [],
   "source": []
  },
  {
   "cell_type": "code",
   "execution_count": null,
   "metadata": {},
   "outputs": [],
   "source": []
  }
 ],
 "metadata": {
  "kernelspec": {
   "display_name": "Python 3",
   "language": "python",
   "name": "python3"
  },
  "language_info": {
   "codemirror_mode": {
    "name": "ipython",
    "version": 3
   },
   "file_extension": ".py",
   "mimetype": "text/x-python",
   "name": "python",
   "nbconvert_exporter": "python",
   "pygments_lexer": "ipython3",
   "version": "3.7.4"
  }
 },
 "nbformat": 4,
 "nbformat_minor": 4
}
